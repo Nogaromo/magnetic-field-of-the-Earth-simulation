{
 "cells": [
  {
   "cell_type": "code",
   "execution_count": 7,
   "id": "eadec62b",
   "metadata": {
    "ExecuteTime": {
     "end_time": "2023-02-16T18:55:31.914645Z",
     "start_time": "2023-02-16T18:55:31.900643Z"
    }
   },
   "outputs": [],
   "source": [
    "import sys, os, importlib"
   ]
  },
  {
   "cell_type": "code",
   "execution_count": 8,
   "id": "0fc46771",
   "metadata": {
    "ExecuteTime": {
     "end_time": "2023-02-16T18:55:31.929650Z",
     "start_time": "2023-02-16T18:55:31.917648Z"
    },
    "scrolled": true
   },
   "outputs": [
    {
     "name": "stdout",
     "output_type": "stream",
     "text": [
      "'numpy' already in sys.modules\n",
      "'scipy' already in sys.modules\n",
      "'matplotlib' already in sys.modules\n",
      "'tqdm' already in sys.modules\n",
      "'PySide2' already in sys.modules\n",
      "'mayavi' already in sys.modules\n"
     ]
    }
   ],
   "source": [
    "names = ['numpy', 'scipy', 'matplotlib', 'tqdm', 'PySide2', 'mayavi']\n",
    "def check_modules(module_names):\n",
    "    for name in module_names:\n",
    "        if name in sys.modules:\n",
    "            print(f\"{name!r} already in sys.modules\")\n",
    "        elif (spec := importlib.util.find_spec(name)) is not None:\n",
    "            # If you choose to perform the actual import ...\n",
    "            module = importlib.util.module_from_spec(spec)\n",
    "            sys.modules[name] = module\n",
    "            spec.loader.exec_module(module)\n",
    "            print(f\"{name!r} has been imported\")\n",
    "        else:\n",
    "            print(f\"can't find the {name!r} module\")\n",
    "check_modules(names)"
   ]
  },
  {
   "cell_type": "markdown",
   "id": "84c741b5",
   "metadata": {},
   "source": [
    "Если какой-то модуль не установлен, то нужно его установить через !pip intsall package. Скорее всего это будет PySide2.\n",
    "Вроде я указал все, что нужно"
   ]
  },
  {
   "cell_type": "code",
   "execution_count": 9,
   "id": "d63204c8",
   "metadata": {
    "ExecuteTime": {
     "end_time": "2023-02-16T18:55:31.944652Z",
     "start_time": "2023-02-16T18:55:31.930650Z"
    }
   },
   "outputs": [],
   "source": [
    "import numpy as np\n",
    "import matplotlib.pyplot as plt\n",
    "from scipy.integrate import odeint\n",
    "from tqdm import tqdm\n",
    "from mayavi.mlab import quiver3d\n",
    "from mayavi import mlab\n",
    "from scipy.special import lpmv, eval_legendre"
   ]
  },
  {
   "cell_type": "code",
   "execution_count": 33,
   "id": "873d126c",
   "metadata": {
    "ExecuteTime": {
     "end_time": "2023-02-16T19:17:54.044014Z",
     "start_time": "2023-02-16T19:17:54.025011Z"
    }
   },
   "outputs": [],
   "source": [
    "g_1_0 = -29404.8 * 1e-9\n",
    "g_1_1 = -1450.9 * 1e-9\n",
    "h_1_1 = 4652.5 * 1e-9\n",
    "g_2_0 = -2499.6 * 1e-9\n",
    "g_2_1 = 2982.0 * 1e-9\n",
    "h_2_1 = -2991.6 * 1e-9\n",
    "g_2_2 = 1677.0 * 1e-9\n",
    "h_2_2 = -734.6 * 1e-9\n",
    "Re = 6400 * 1e3\n",
    "Rm = 11 * Re\n",
    "b = 5 * Re\n",
    "mu0=1.26*1e-6\n",
    "m_x = 4*np.pi*Re**3/mu0*g_1_1*0\n",
    "m_y = 4*np.pi*Re**3/mu0*h_1_1*0\n",
    "m_z = 4*np.pi*Re**3/mu0*g_1_0*0\n",
    "Q_xx = 4*np.pi*Re**4/mu0*(-g_2_0 + np.sqrt(3) * g_2_2*0)\n",
    "Q_yy = 4*np.pi*Re**4/mu0*(-g_2_0 - np.sqrt(3) * g_2_2*0)\n",
    "Q_xy = 4*np.pi*np.sqrt(3)*Re**4/mu0*h_2_2*0\n",
    "Q_xz = 4*np.pi*np.sqrt(3)*Re**4/mu0*g_2_1*0\n",
    "Q_yz = 4*np.pi*np.sqrt(3)*Re**4/mu0*h_2_1*0"
   ]
  },
  {
   "cell_type": "code",
   "execution_count": 34,
   "id": "843635ae",
   "metadata": {
    "ExecuteTime": {
     "end_time": "2023-02-16T19:17:54.312856Z",
     "start_time": "2023-02-16T19:17:54.299854Z"
    }
   },
   "outputs": [
    {
     "data": {
      "text/plain": [
       "(1.26e-06,\n",
       " -0.0,\n",
       " 0.0,\n",
       " -0.0,\n",
       " 4.182440109898716e+28,\n",
       " 4.182440109898716e+28,\n",
       " -0.0,\n",
       " 0.0,\n",
       " -0.0)"
      ]
     },
     "execution_count": 34,
     "metadata": {},
     "output_type": "execute_result"
    }
   ],
   "source": [
    "mu0, m_x, m_y, m_z, Q_xx, Q_yy, Q_xy, Q_xz, Q_yz"
   ]
  },
  {
   "cell_type": "code",
   "execution_count": 45,
   "id": "e6ab81be",
   "metadata": {
    "ExecuteTime": {
     "end_time": "2023-02-16T19:29:43.248146Z",
     "start_time": "2023-02-16T19:29:43.222141Z"
    }
   },
   "outputs": [],
   "source": [
    "class Magnetic_field():\n",
    "    \n",
    "    def __init__(self, cf=True):\n",
    "        self.cf = cf\n",
    "        \n",
    "    # Поле Земли из диссертации 2004го года\n",
    "    @staticmethod\n",
    "    def B_earth_m(x, y, z):\n",
    "        global b, mu0, m_x, m_y, m_z, Q_xx, Q_yy, Q_xy, Q_xz, Q_yz\n",
    "        r = np.sqrt(x**2+y**2+(z+b)**2)\n",
    "        a_d = -m_x*(z+b)+m_y*y+m_z*x\n",
    "        a_q = Q_xx*(z+b)**2+Q_yy*y**2-(Q_xx+Q_yy)*x**2-2*Q_xy*(z+b)*y-2*Q_xz*(z+b)*x+2*Q_yz*x*y\n",
    "        B_x = m_z/r**3-3*x*a_d/r**5-((Q_xx+Q_yy)*x+Q_xz*(z+b)-Q_yz*x)/r**5-5*x*a_q/(2*r**7)\n",
    "        B_y = m_y/r**3-3*y*a_d/r**5+(Q_yy*y-Q_xy*(z+b)+Q_yz*x)/r**5-5*y*a_q/(2*r**7)\n",
    "        B_z = -m_x/r**3-3*(z+b)*a_d/r**5+(Q_xx*(z+b)-Q_xy*y-Q_xz*x)/r**5-5*(z+b)*a_q/(2*r**7)\n",
    "        return -mu0/(4*np.pi)*np.array([B_x, B_y, B_z])\n",
    "\n",
    "    # Преобразование из сферической системы координат в декртову\n",
    "    @staticmethod\n",
    "    def transform(theta, phi):\n",
    "        C = np.array([[np.sin(theta)*np.cos(phi), np.sin(theta)*np.sin(phi), np.cos(theta)],\n",
    "                      [np.cos(theta)*np.cos(phi), np.cos(theta)*np.sin(phi), -np.sin(theta)],\n",
    "                      [-np.sin(theta), np.cos(phi), 0]])\n",
    "        return C\n",
    "\n",
    "    # Вычисляем суммарное поле(cf+earth)\n",
    "    def B_xyz_m(self, x, y, z):\n",
    "        cf = self.cf\n",
    "        r = np.sqrt(x**2+y**2+z**2)\n",
    "        theta = np.arccos(z / r)\n",
    "        phi = np.arctan(y / x) if x > 0 else np.arctan(y / x) + np.pi\n",
    "        B_earth = self.B_earth_m(x, y, z)\n",
    "        if cf:\n",
    "            B_cf_M = self.B_cfi_2004(r, theta, phi)\n",
    "            C = self.transform(theta, phi)\n",
    "            B_cf1 = B_cf_M @ C\n",
    "            B = B_earth + B_cf1\n",
    "        else:\n",
    "            B = B_earth\n",
    "        return B\n",
    "\n",
    "    # Строим сферу\n",
    "    @staticmethod\n",
    "    def plot_sphere(r=6400 * 1e3, x_0=0, y_0=0, z_0=-b):\n",
    "        [phi, theta] = np.mgrid[0:2 * np.pi:30j, 0:np.pi:30j]\n",
    "        x = r * np.cos(phi) * np.sin(theta)\n",
    "        y = r * np.sin(phi) * np.sin(theta)\n",
    "        z = r * np.cos(theta)\n",
    "        mlab.mesh(x + x_0, y + y_0, z + z_0, colormap='gist_earth')\n",
    "\n",
    "    # Считаем магнитные линии\n",
    "    def magn_lines_m(self, start_points, step=1e5, R_bound = 6400*1e3*30, max_iter=10_000):\n",
    "        global Re\n",
    "        lines = []\n",
    "        for point in tqdm(start_points, desc='Lines plotted'):\n",
    "            r, theta, phi = point\n",
    "            x_gse = r * np.sin(theta) * np.cos(phi)\n",
    "            y_gse = r * np.sin(theta) * np.sin(phi)\n",
    "            z_gse = r * np.cos(theta)\n",
    "            x = z_gse\n",
    "            y = y_gse\n",
    "            z = -(x_gse+b)\n",
    "            line = [np.array([x, y, z])]\n",
    "            B = self.B_xyz_m(x, y, z)\n",
    "            x = np.sign(theta - np.pi / 2)\n",
    "            i = 0\n",
    "            while Re <= r <= R_bound and i < max_iter:\n",
    "                new_point = line[-1] + x * step * B / np.linalg.norm(B)\n",
    "                r = np.linalg.norm(new_point)\n",
    "                line.append(new_point)\n",
    "                B = self.B_xyz_m(*new_point)\n",
    "                i += 1\n",
    "            lines.append(line)\n",
    "        return lines\n",
    "\n",
    "    # Строим магнитные линии\n",
    "    def plot_magnetic_field_lines_m(self, theta, phi):\n",
    "        global Re\n",
    "        cf = self.cf\n",
    "        if cf:\n",
    "            color=(0.1, 0.3, 0.5)\n",
    "        else:\n",
    "            color=(0.5, 0.3, 0.5)\n",
    "        start_points = []\n",
    "        for i in range(theta.shape[0]):\n",
    "            for j in range(phi.shape[0]):\n",
    "                theta_ = theta[i]\n",
    "                phi_ = phi[j]\n",
    "                point = np.array([Re, theta_, phi_])\n",
    "                start_points.append(point)\n",
    "        lines = self.magn_lines_m(start_points)\n",
    "        for line in lines:\n",
    "            line = np.array(line)\n",
    "            if line.shape[0] == 2:\n",
    "                pass\n",
    "            else:\n",
    "                #print(line)\n",
    "                mlab.plot3d(line[:, 0], line[:, 1], line[:, 2], tube_radius=None, color=color)\n",
    "\n",
    "        self.plot_sphere()\n",
    "\n",
    "    # Преобразование из декартовой системы в М-систему, вероятно, не работает...\n",
    "    @staticmethod\n",
    "    def decart_to_m(r, theta, phi):\n",
    "        global b\n",
    "        x = r * np.sin(theta) * np.cos(phi)\n",
    "        y = r * np.sin(theta) * np.sin(phi)\n",
    "        z = r * np.cos(theta)\n",
    "        x_m = z\n",
    "        y_m = y\n",
    "        z_m = -(x + b)\n",
    "        r_m = np.sqrt(x_m**2 + y_m**2 + z_m**2)\n",
    "        theta_m = np.arccos(z_m / r_m)\n",
    "        phi_m = np.arctan(y_m / x_m) if x_m > 0 else np.arctan(y_m / x_m) + np.pi\n",
    "        A = np.array([[np.sin(phi_m), -np.cos(phi_m), 0],\n",
    "                      [np.cos(theta_m)*np.cos(phi_m), np.cos(theta_m)*np.sin(phi_m), -np.sin(theta_m)],\n",
    "                      [np.sin(theta_m)*np.cos(phi_m), np.sin(theta_m)*np.sin(phi_m), np.cos(theta_m)]])\n",
    "        return A, r_m, theta_m, phi_m\n",
    "    \n",
    "    @staticmethod\n",
    "    def B_cfi_r(n, r, theta, phi):\n",
    "        global b, Rm, Q_xx, Q_yy, Q_xy, Q_xz, Q_yz\n",
    "        B_r = (n+1)*(-b/Rm)**(n+2)*(r/Rm)**(n-1)*(\n",
    "                                        -n*(m_x+(n-1)/(4*b)*Q_xx)*lpmv(0, n, np.cos(theta))+\n",
    "                                        ((m_z+(n-1)/(3*b)*Q_xz)*np.cos(phi)+(m_y+(n-1)/(3*b)*Q_xy)*np.sin(phi))*lpmv(1, n, np.cos(theta))+\n",
    "                                        1/(6*b)*((0.5*Q_xx+Q_yy)*np.cos(2*phi)-Q_yz*np.sin(2*phi))*lpmv(2, n, np.cos(theta))\n",
    "                                                  )\n",
    "        return B_r\n",
    "    \n",
    "    @staticmethod\n",
    "    def B_cfi_theta(n, r, theta, phi):\n",
    "        global b, Rm, Q_xx, Q_yy, Q_xy, Q_xz, Q_yz\n",
    "        B_theta = (n+1)/n*(-b/Rm)**(n+2)*(r/Rm)**(n-1)*(\n",
    "                            -n*(m_x+(n-1)/(4*b)*Q_xx)*\n",
    "                            (-((n+1)*1/np.sin(theta)*(np.cos(theta)*eval_legendre(n, np.cos(theta))+eval_legendre(n+1, np.cos(theta)))))+\n",
    "                            ((m_z+(n-1)/(3*b)*Q_xz)*np.cos(phi)+(m_y+(n-1)/(3*b)*Q_xy)*np.sin(phi))*\n",
    "                            (-((n+1)*1/np.tan(theta)*lpmv(1, n, np.cos(theta)))+n*1/np.sin(theta)*lpmv(1, n+1, np.cos(theta)))+\n",
    "                            1/(6*b)*((0.5*Q_xx+Q_yy)*np.cos(2*phi)-Q_yz*np.sin(2*phi))*\n",
    "                            (-((n+1)*1/np.tan(theta)*lpmv(2, n, np.cos(theta)))+(n-1)*1/np.sin(theta)*lpmv(2, n+1, np.cos(theta)))\n",
    "                                                        )\n",
    "        return B_theta\n",
    "    \n",
    "    @staticmethod\n",
    "    def B_cfi_phi(n, r, theta, phi):\n",
    "        global b, Rm, Q_xx, Q_yy, Q_xy, Q_xz, Q_yz\n",
    "        B_phi = (n+1)/n*(-b/Rm)**(n+2)*(r/Rm)**(n-1)*1/np.sin(theta)*(\n",
    "                                        (-(m_z+(n-1)/(3*b)*Q_xz)*np.sin(phi)+(m_y+(n-1)/(3*b)*Q_xy)*np.cos(phi))*lpmv(1, n, np.cos(theta))+\n",
    "                                        1/(3*b)*(-(0.5*Q_xx+Q_yy)*np.sin(2*phi)-Q_yz*np.cos(2*phi))*lpmv(2, n, np.cos(theta))\n",
    "                                                  )\n",
    "        return B_phi\n",
    "    \n",
    "    def B_cfi_2004(self, r, theta, phi, N=3):\n",
    "        global b, mu0\n",
    "        B_r = 0.0\n",
    "        B_theta = 0.0\n",
    "        B_phi = 0.0\n",
    "        for n in range(1, N+1):\n",
    "            B_r += self.B_cfi_r(n, r, theta, phi)     \n",
    "            B_theta += self.B_cfi_phi(n, r, theta, phi)                                              \n",
    "            B_phi += self.B_cfi_phi(n, r, theta, phi)\n",
    "        return mu0/(4*np.pi * b**3) * np.array([B_r, B_theta, B_phi])"
   ]
  },
  {
   "cell_type": "markdown",
   "id": "77db08c7",
   "metadata": {},
   "source": [
    "Посторим поле квадруполя"
   ]
  },
  {
   "cell_type": "code",
   "execution_count": null,
   "id": "bf72e849",
   "metadata": {
    "ExecuteTime": {
     "start_time": "2023-02-16T19:38:47.474Z"
    }
   },
   "outputs": [
    {
     "name": "stderr",
     "output_type": "stream",
     "text": [
      "Lines plotted: 100%|█████████████████████████████████████████████████████████████████| 208/208 [06:26<00:00,  1.86s/it]\n",
      "Lines plotted: 100%|█████████████████████████████████████████████████████████████████| 208/208 [00:54<00:00,  3.79it/s]\n"
     ]
    }
   ],
   "source": [
    "theta_1 = [np.pi / x for x in range(4, 11, 1)]\n",
    "theta_2 = [np.pi/2 + np.pi / x for x in range(9, 34, 3)]\n",
    "theta = np.concatenate((theta_1, theta_2), axis=None)\n",
    "phi = np.array([x * np.pi / 6 for x in range(13)])\n",
    "mf_with_cf = Magnetic_field(cf=True)\n",
    "mf_without_cf = Magnetic_field(cf=False)\n",
    "mf_with_cf.plot_magnetic_field_lines_m(theta, phi)\n",
    "mf_without_cf.plot_magnetic_field_lines_m(theta, phi)\n",
    "#mlab.plot3d([0, 0], [0, 0], [0, 6400*1e3*10], tube_radius=None, color=(0.7, 0.3, 0.5))\n",
    "#mlab.plot3d([0, 0], [0, 6400*1e3*10], [0, 0], tube_radius=None, color=(0.7, 0.3, 0.5))\n",
    "#mlab.plot3d([0, 6400*1e3*10], [0, 0], [0, 0], tube_radius=None, color=(0.7, 0.3, 0.5))\n",
    "mlab.view(focalpoint=[0, 0, -b])\n",
    "mlab.show()"
   ]
  },
  {
   "cell_type": "code",
   "execution_count": null,
   "id": "1dc4e296",
   "metadata": {},
   "outputs": [],
   "source": []
  }
 ],
 "metadata": {
  "kernelspec": {
   "display_name": "Python 3 (ipykernel)",
   "language": "python",
   "name": "python3"
  },
  "language_info": {
   "codemirror_mode": {
    "name": "ipython",
    "version": 3
   },
   "file_extension": ".py",
   "mimetype": "text/x-python",
   "name": "python",
   "nbconvert_exporter": "python",
   "pygments_lexer": "ipython3",
   "version": "3.10.5"
  },
  "varInspector": {
   "cols": {
    "lenName": 16,
    "lenType": 16,
    "lenVar": 40
   },
   "kernels_config": {
    "python": {
     "delete_cmd_postfix": "",
     "delete_cmd_prefix": "del ",
     "library": "var_list.py",
     "varRefreshCmd": "print(var_dic_list())"
    },
    "r": {
     "delete_cmd_postfix": ") ",
     "delete_cmd_prefix": "rm(",
     "library": "var_list.r",
     "varRefreshCmd": "cat(var_dic_list()) "
    }
   },
   "types_to_exclude": [
    "module",
    "function",
    "builtin_function_or_method",
    "instance",
    "_Feature"
   ],
   "window_display": false
  }
 },
 "nbformat": 4,
 "nbformat_minor": 5
}
